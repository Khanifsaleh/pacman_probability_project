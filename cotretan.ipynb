{
 "cells": [
  {
   "cell_type": "code",
   "execution_count": 6,
   "id": "998a181e",
   "metadata": {},
   "outputs": [],
   "source": [
    "import pandas as pd\n",
    "import seaborn as sns"
   ]
  },
  {
   "cell_type": "code",
   "execution_count": 2,
   "id": "f35feb1b",
   "metadata": {},
   "outputs": [],
   "source": [
    "df = pd.read_csv('insurance.csv')"
   ]
  },
  {
   "cell_type": "code",
   "execution_count": 72,
   "id": "e6205817",
   "metadata": {},
   "outputs": [
    {
     "data": {
      "text/html": [
       "<div>\n",
       "<style scoped>\n",
       "    .dataframe tbody tr th:only-of-type {\n",
       "        vertical-align: middle;\n",
       "    }\n",
       "\n",
       "    .dataframe tbody tr th {\n",
       "        vertical-align: top;\n",
       "    }\n",
       "\n",
       "    .dataframe thead th {\n",
       "        text-align: right;\n",
       "    }\n",
       "</style>\n",
       "<table border=\"1\" class=\"dataframe\">\n",
       "  <thead>\n",
       "    <tr style=\"text-align: right;\">\n",
       "      <th></th>\n",
       "      <th>age</th>\n",
       "      <th>sex</th>\n",
       "      <th>bmi</th>\n",
       "      <th>children</th>\n",
       "      <th>smoker</th>\n",
       "      <th>region</th>\n",
       "      <th>charges</th>\n",
       "    </tr>\n",
       "  </thead>\n",
       "  <tbody>\n",
       "    <tr>\n",
       "      <th>0</th>\n",
       "      <td>19</td>\n",
       "      <td>female</td>\n",
       "      <td>27.900</td>\n",
       "      <td>0</td>\n",
       "      <td>yes</td>\n",
       "      <td>southwest</td>\n",
       "      <td>16884.92400</td>\n",
       "    </tr>\n",
       "    <tr>\n",
       "      <th>1</th>\n",
       "      <td>18</td>\n",
       "      <td>male</td>\n",
       "      <td>33.770</td>\n",
       "      <td>1</td>\n",
       "      <td>no</td>\n",
       "      <td>southeast</td>\n",
       "      <td>1725.55230</td>\n",
       "    </tr>\n",
       "    <tr>\n",
       "      <th>2</th>\n",
       "      <td>28</td>\n",
       "      <td>male</td>\n",
       "      <td>33.000</td>\n",
       "      <td>3</td>\n",
       "      <td>no</td>\n",
       "      <td>southeast</td>\n",
       "      <td>4449.46200</td>\n",
       "    </tr>\n",
       "    <tr>\n",
       "      <th>3</th>\n",
       "      <td>33</td>\n",
       "      <td>male</td>\n",
       "      <td>22.705</td>\n",
       "      <td>0</td>\n",
       "      <td>no</td>\n",
       "      <td>northwest</td>\n",
       "      <td>21984.47061</td>\n",
       "    </tr>\n",
       "    <tr>\n",
       "      <th>4</th>\n",
       "      <td>32</td>\n",
       "      <td>male</td>\n",
       "      <td>28.880</td>\n",
       "      <td>0</td>\n",
       "      <td>no</td>\n",
       "      <td>northwest</td>\n",
       "      <td>3866.85520</td>\n",
       "    </tr>\n",
       "  </tbody>\n",
       "</table>\n",
       "</div>"
      ],
      "text/plain": [
       "   age     sex     bmi  children smoker     region      charges\n",
       "0   19  female  27.900         0    yes  southwest  16884.92400\n",
       "1   18    male  33.770         1     no  southeast   1725.55230\n",
       "2   28    male  33.000         3     no  southeast   4449.46200\n",
       "3   33    male  22.705         0     no  northwest  21984.47061\n",
       "4   32    male  28.880         0     no  northwest   3866.85520"
      ]
     },
     "execution_count": 72,
     "metadata": {},
     "output_type": "execute_result"
    }
   ],
   "source": [
    "df.head()"
   ]
  },
  {
   "cell_type": "markdown",
   "id": "0e11f820",
   "metadata": {},
   "source": [
    "### Analisa Descriptive Statistic"
   ]
  },
  {
   "cell_type": "code",
   "execution_count": 5,
   "id": "47d8e33b",
   "metadata": {},
   "outputs": [
    {
     "data": {
      "text/plain": [
       "age         0\n",
       "sex         0\n",
       "bmi         0\n",
       "children    0\n",
       "smoker      0\n",
       "region      0\n",
       "charges     0\n",
       "dtype: int64"
      ]
     },
     "execution_count": 5,
     "metadata": {},
     "output_type": "execute_result"
    }
   ],
   "source": [
    "df.isna().sum()"
   ]
  },
  {
   "cell_type": "code",
   "execution_count": 4,
   "id": "2c8c7f95",
   "metadata": {},
   "outputs": [
    {
     "data": {
      "text/html": [
       "<div>\n",
       "<style scoped>\n",
       "    .dataframe tbody tr th:only-of-type {\n",
       "        vertical-align: middle;\n",
       "    }\n",
       "\n",
       "    .dataframe tbody tr th {\n",
       "        vertical-align: top;\n",
       "    }\n",
       "\n",
       "    .dataframe thead th {\n",
       "        text-align: right;\n",
       "    }\n",
       "</style>\n",
       "<table border=\"1\" class=\"dataframe\">\n",
       "  <thead>\n",
       "    <tr style=\"text-align: right;\">\n",
       "      <th></th>\n",
       "      <th>age</th>\n",
       "      <th>bmi</th>\n",
       "      <th>children</th>\n",
       "      <th>charges</th>\n",
       "    </tr>\n",
       "  </thead>\n",
       "  <tbody>\n",
       "    <tr>\n",
       "      <th>count</th>\n",
       "      <td>1338.000000</td>\n",
       "      <td>1338.000000</td>\n",
       "      <td>1338.000000</td>\n",
       "      <td>1338.000000</td>\n",
       "    </tr>\n",
       "    <tr>\n",
       "      <th>mean</th>\n",
       "      <td>39.207025</td>\n",
       "      <td>30.663397</td>\n",
       "      <td>1.094918</td>\n",
       "      <td>13270.422265</td>\n",
       "    </tr>\n",
       "    <tr>\n",
       "      <th>std</th>\n",
       "      <td>14.049960</td>\n",
       "      <td>6.098187</td>\n",
       "      <td>1.205493</td>\n",
       "      <td>12110.011237</td>\n",
       "    </tr>\n",
       "    <tr>\n",
       "      <th>min</th>\n",
       "      <td>18.000000</td>\n",
       "      <td>15.960000</td>\n",
       "      <td>0.000000</td>\n",
       "      <td>1121.873900</td>\n",
       "    </tr>\n",
       "    <tr>\n",
       "      <th>25%</th>\n",
       "      <td>27.000000</td>\n",
       "      <td>26.296250</td>\n",
       "      <td>0.000000</td>\n",
       "      <td>4740.287150</td>\n",
       "    </tr>\n",
       "    <tr>\n",
       "      <th>50%</th>\n",
       "      <td>39.000000</td>\n",
       "      <td>30.400000</td>\n",
       "      <td>1.000000</td>\n",
       "      <td>9382.033000</td>\n",
       "    </tr>\n",
       "    <tr>\n",
       "      <th>75%</th>\n",
       "      <td>51.000000</td>\n",
       "      <td>34.693750</td>\n",
       "      <td>2.000000</td>\n",
       "      <td>16639.912515</td>\n",
       "    </tr>\n",
       "    <tr>\n",
       "      <th>max</th>\n",
       "      <td>64.000000</td>\n",
       "      <td>53.130000</td>\n",
       "      <td>5.000000</td>\n",
       "      <td>63770.428010</td>\n",
       "    </tr>\n",
       "  </tbody>\n",
       "</table>\n",
       "</div>"
      ],
      "text/plain": [
       "               age          bmi     children       charges\n",
       "count  1338.000000  1338.000000  1338.000000   1338.000000\n",
       "mean     39.207025    30.663397     1.094918  13270.422265\n",
       "std      14.049960     6.098187     1.205493  12110.011237\n",
       "min      18.000000    15.960000     0.000000   1121.873900\n",
       "25%      27.000000    26.296250     0.000000   4740.287150\n",
       "50%      39.000000    30.400000     1.000000   9382.033000\n",
       "75%      51.000000    34.693750     2.000000  16639.912515\n",
       "max      64.000000    53.130000     5.000000  63770.428010"
      ]
     },
     "execution_count": 4,
     "metadata": {},
     "output_type": "execute_result"
    }
   ],
   "source": [
    "df.describe()"
   ]
  },
  {
   "cell_type": "code",
   "execution_count": 9,
   "id": "29dd7c84",
   "metadata": {},
   "outputs": [
    {
     "data": {
      "text/plain": [
       "<AxesSubplot:xlabel='age', ylabel='Count'>"
      ]
     },
     "execution_count": 9,
     "metadata": {},
     "output_type": "execute_result"
    },
    {
     "data": {
      "image/png": "[encoded data removed]",
      "text/plain": [
       "<Figure size 432x288 with 1 Axes>"
      ]
     },
     "metadata": {
      "needs_background": "light"
     },
     "output_type": "display_data"
    }
   ],
   "source": [
    "sns.histplot(data=df, x=\"age\", kde=True)"
   ]
  },
  {
   "cell_type": "code",
   "execution_count": 79,
   "id": "7a588b79",
   "metadata": {},
   "outputs": [
    {
     "data": {
      "text/plain": [
       "smoker\n",
       "no     3.592542e+07\n",
       "yes    1.332073e+08\n",
       "Name: charges, dtype: float64"
      ]
     },
     "execution_count": 79,
     "metadata": {},
     "output_type": "execute_result"
    }
   ],
   "source": [
    "# variance charges perokok dan bukan perokok\n",
    "df.groupby(['smoker'])['charges'].var()"
   ]
  },
  {
   "cell_type": "code",
   "execution_count": 83,
   "id": "1a0a487e",
   "metadata": {},
   "outputs": [
    {
     "data": {
      "text/plain": [
       "35925420.49611175"
      ]
     },
     "execution_count": 83,
     "metadata": {},
     "output_type": "execute_result"
    }
   ],
   "source": [
    "df.groupby(['smoker'])['charges'].var().iloc[0]"
   ]
  },
  {
   "cell_type": "code",
   "execution_count": 82,
   "id": "9f4f69b5",
   "metadata": {},
   "outputs": [
    {
     "data": {
      "text/plain": [
       "133207311.20634927"
      ]
     },
     "execution_count": 82,
     "metadata": {},
     "output_type": "execute_result"
    }
   ],
   "source": [
    "# variance charges perokok dan bukan perokok\n",
    "df.groupby(['smoker'])['charges'].var().iloc[1]"
   ]
  },
  {
   "cell_type": "code",
   "execution_count": null,
   "id": "a96d8a0e",
   "metadata": {},
   "outputs": [],
   "source": [
    "df"
   ]
  },
  {
   "cell_type": "markdown",
   "id": "71afbd3f",
   "metadata": {},
   "source": [
    "### Analisa Variabel Kategorik"
   ]
  },
  {
   "cell_type": "code",
   "execution_count": 16,
   "id": "765d8ca2",
   "metadata": {},
   "outputs": [
    {
     "data": {
      "text/plain": [
       "sex\n",
       "female    8.321061e+06\n",
       "male      9.434764e+06\n",
       "Name: charges, dtype: float64"
      ]
     },
     "execution_count": 16,
     "metadata": {},
     "output_type": "execute_result"
    }
   ],
   "source": [
    "df.groupby('sex')['charges'].sum()"
   ]
  },
  {
   "cell_type": "code",
   "execution_count": 17,
   "id": "236ee1de",
   "metadata": {},
   "outputs": [
    {
     "data": {
      "text/plain": [
       "sex\n",
       "female    12569.578844\n",
       "male      13956.751178\n",
       "Name: charges, dtype: float64"
      ]
     },
     "execution_count": 17,
     "metadata": {},
     "output_type": "execute_result"
    }
   ],
   "source": [
    "df.groupby('sex')['charges'].mean()"
   ]
  },
  {
   "cell_type": "code",
   "execution_count": 19,
   "id": "785e7813",
   "metadata": {},
   "outputs": [
    {
     "data": {
      "text/plain": [
       "region\n",
       "northeast    0.244633\n",
       "northwest    0.227289\n",
       "southeast    0.302081\n",
       "southwest    0.225997\n",
       "Name: charges, dtype: float64"
      ]
     },
     "execution_count": 19,
     "metadata": {},
     "output_type": "execute_result"
    }
   ],
   "source": [
    "df.groupby('region')['charges'].sum()/df['charges'].sum()"
   ]
  },
  {
   "cell_type": "code",
   "execution_count": 23,
   "id": "bd1f7402",
   "metadata": {},
   "outputs": [
    {
     "data": {
      "text/plain": [
       "smoker\n",
       "no     0.795217\n",
       "yes    0.204783\n",
       "Name: smoker, dtype: float64"
      ]
     },
     "execution_count": 23,
     "metadata": {},
     "output_type": "execute_result"
    }
   ],
   "source": [
    "df.groupby('smoker')['smoker'].count()/len(df)"
   ]
  },
  {
   "cell_type": "code",
   "execution_count": 27,
   "id": "4837b0ea",
   "metadata": {},
   "outputs": [
    {
     "data": {
      "text/plain": [
       "sex\n",
       "female    0.419708\n",
       "male      0.580292\n",
       "Name: sex, dtype: float64"
      ]
     },
     "execution_count": 27,
     "metadata": {},
     "output_type": "execute_result"
    }
   ],
   "source": [
    "data_perokok = df[df['smoker']=='yes']\n",
    "data_perokok.groupby('sex')['sex'].count()/len(data_perokok)"
   ]
  },
  {
   "cell_type": "code",
   "execution_count": 38,
   "id": "e764705e",
   "metadata": {},
   "outputs": [
    {
     "data": {
      "text/plain": [
       "<AxesSubplot:title={'center':'charges'}, xlabel='region'>"
      ]
     },
     "execution_count": 38,
     "metadata": {},
     "output_type": "execute_result"
    },
    {
     "data": {
      "image/png": "[encoded data removed]",
      "text/plain": [
       "<Figure size 864x576 with 1 Axes>"
      ]
     },
     "metadata": {
      "needs_background": "light"
     },
     "output_type": "display_data"
    }
   ],
   "source": [
    "df.boxplot('charges', by='region', figsize=(12, 8))"
   ]
  },
  {
   "cell_type": "markdown",
   "id": "ba8a3737",
   "metadata": {},
   "source": [
    "## Analisa Variabel Kontinu"
   ]
  },
  {
   "cell_type": "code",
   "execution_count": 44,
   "id": "dc1c02b2",
   "metadata": {},
   "outputs": [
    {
     "data": {
      "text/html": [
       "<div>\n",
       "<style scoped>\n",
       "    .dataframe tbody tr th:only-of-type {\n",
       "        vertical-align: middle;\n",
       "    }\n",
       "\n",
       "    .dataframe tbody tr th {\n",
       "        vertical-align: top;\n",
       "    }\n",
       "\n",
       "    .dataframe thead th {\n",
       "        text-align: right;\n",
       "    }\n",
       "</style>\n",
       "<table border=\"1\" class=\"dataframe\">\n",
       "  <thead>\n",
       "    <tr style=\"text-align: right;\">\n",
       "      <th></th>\n",
       "      <th>bmi</th>\n",
       "      <th>charges</th>\n",
       "    </tr>\n",
       "  </thead>\n",
       "  <tbody>\n",
       "    <tr>\n",
       "      <th>0</th>\n",
       "      <td>27.900</td>\n",
       "      <td>16884.92400</td>\n",
       "    </tr>\n",
       "    <tr>\n",
       "      <th>1</th>\n",
       "      <td>33.770</td>\n",
       "      <td>1725.55230</td>\n",
       "    </tr>\n",
       "    <tr>\n",
       "      <th>2</th>\n",
       "      <td>33.000</td>\n",
       "      <td>4449.46200</td>\n",
       "    </tr>\n",
       "    <tr>\n",
       "      <th>3</th>\n",
       "      <td>22.705</td>\n",
       "      <td>21984.47061</td>\n",
       "    </tr>\n",
       "    <tr>\n",
       "      <th>4</th>\n",
       "      <td>28.880</td>\n",
       "      <td>3866.85520</td>\n",
       "    </tr>\n",
       "    <tr>\n",
       "      <th>...</th>\n",
       "      <td>...</td>\n",
       "      <td>...</td>\n",
       "    </tr>\n",
       "    <tr>\n",
       "      <th>1333</th>\n",
       "      <td>30.970</td>\n",
       "      <td>10600.54830</td>\n",
       "    </tr>\n",
       "    <tr>\n",
       "      <th>1334</th>\n",
       "      <td>31.920</td>\n",
       "      <td>2205.98080</td>\n",
       "    </tr>\n",
       "    <tr>\n",
       "      <th>1335</th>\n",
       "      <td>36.850</td>\n",
       "      <td>1629.83350</td>\n",
       "    </tr>\n",
       "    <tr>\n",
       "      <th>1336</th>\n",
       "      <td>25.800</td>\n",
       "      <td>2007.94500</td>\n",
       "    </tr>\n",
       "    <tr>\n",
       "      <th>1337</th>\n",
       "      <td>29.070</td>\n",
       "      <td>29141.36030</td>\n",
       "    </tr>\n",
       "  </tbody>\n",
       "</table>\n",
       "<p>1338 rows × 2 columns</p>\n",
       "</div>"
      ],
      "text/plain": [
       "         bmi      charges\n",
       "0     27.900  16884.92400\n",
       "1     33.770   1725.55230\n",
       "2     33.000   4449.46200\n",
       "3     22.705  21984.47061\n",
       "4     28.880   3866.85520\n",
       "...      ...          ...\n",
       "1333  30.970  10600.54830\n",
       "1334  31.920   2205.98080\n",
       "1335  36.850   1629.83350\n",
       "1336  25.800   2007.94500\n",
       "1337  29.070  29141.36030\n",
       "\n",
       "[1338 rows x 2 columns]"
      ]
     },
     "execution_count": 44,
     "metadata": {},
     "output_type": "execute_result"
    }
   ],
   "source": [
    "df[['bmi', 'charges']]"
   ]
  },
  {
   "cell_type": "markdown",
   "id": "701882f8",
   "metadata": {},
   "source": [
    "### Mencari peluang besar tagihan berdasarkan BMI"
   ]
  },
  {
   "cell_type": "code",
   "execution_count": 58,
   "id": "8c3f87a4",
   "metadata": {},
   "outputs": [],
   "source": [
    "def probability_given_bmi_condition(bmi_range, another_column_name, another_column_range):\n",
    "    bmi_data = df[\n",
    "        (df['bmi']>=bmi_range[0])&\n",
    "        (df['bmi']<=bmi_range[1])\n",
    "    ]\n",
    "    \n",
    "    another_column_data = bmi_data[\n",
    "        (bmi_data[another_column_name]>=another_column_range[0])&\n",
    "        (bmi_data[another_column_name]<=another_column_range[1])\n",
    "    ]\n",
    "    return len(another_column_data)/len(bmi_data)"
   ]
  },
  {
   "cell_type": "code",
   "execution_count": 100,
   "id": "9dc725fa",
   "metadata": {},
   "outputs": [],
   "source": [
    "from ipywidgets import interact, FloatSlider, FloatRangeSlider"
   ]
  },
  {
   "cell_type": "code",
   "execution_count": 132,
   "id": "8dbd3da3",
   "metadata": {},
   "outputs": [],
   "source": [
    "def probability_charge_given_bmi(bmi_range, charge_range):\n",
    "    bmi_data = df[\n",
    "        (df['bmi']>bmi_range[0])&\n",
    "        (df['bmi']<bmi_range[1])\n",
    "    ]\n",
    "    if len(bmi_data)==0:\n",
    "        return 0\n",
    "    charge_data = bmi_data[\n",
    "        (bmi_data['charges']>charge_range[0])&\n",
    "        (bmi_data['charges']<charge_range[1])\n",
    "    ]\n",
    "    print(\"probability : {:.3f}\".format(len(charge_data)/len(bmi_data)))"
   ]
  },
  {
   "cell_type": "code",
   "execution_count": 131,
   "id": "3644479a",
   "metadata": {},
   "outputs": [
    {
     "data": {
      "application/vnd.jupyter.widget-view+json": {
       "model_id": "055bbe8be0e840daa4c05ed9f14ade13",
       "version_major": 2,
       "version_minor": 0
      },
      "text/plain": [
       "interactive(children=(FloatRangeSlider(value=(13.5325, 40.597500000000004), description='bmi_range', max=54.13…"
      ]
     },
     "metadata": {},
     "output_type": "display_data"
    },
    {
     "data": {
      "text/plain": [
       "<function __main__.probability_charge_given_bmi(bmi_range, charge_range)>"
      ]
     },
     "execution_count": 131,
     "metadata": {},
     "output_type": "execute_result"
    }
   ],
   "source": [
    "interact(probability_charge_given_bmi,  \n",
    "         bmi_range=FloatRangeSlider(min=0, max=max(df['bmi'])+1, step=1, readout_format='.1f',), \n",
    "         charge_range=FloatRangeSlider(min=0, max=max(df['charges'])+1, step=1, readout_format='.1f')\n",
    "        )"
   ]
  },
  {
   "cell_type": "code",
   "execution_count": 136,
   "id": "4d8bcaa8",
   "metadata": {},
   "outputs": [
    {
     "data": {
      "text/plain": [
       "'Peluang perokok dengan BMI diatas 25 akan mendapatkan tagihan kesehatan di atas 16.700 adalah 25.940 %'"
      ]
     },
     "execution_count": 136,
     "metadata": {},
     "output_type": "execute_result"
    }
   ],
   "source": [
    "bmi_data = df[df['bmi']>25]\n",
    "charge_data = bmi_data[bmi_data['charges']>16700]\n",
    "\"Peluang perokok dengan BMI diatas 25 akan mendapatkan tagihan kesehatan di atas 16.700 adalah {:.3f} %\".format(\n",
    "    len(charge_data)/len(bmi_data)*100\n",
    ")"
   ]
  },
  {
   "cell_type": "markdown",
   "id": "022ff855",
   "metadata": {},
   "source": [
    "### Mencari kemungkin terjadi, seorang perokok dengan BMI diatas 25 akan mendapatkan tagihan kesehatan di atas 16.700."
   ]
  },
  {
   "cell_type": "code",
   "execution_count": 62,
   "id": "ec456ec9",
   "metadata": {},
   "outputs": [
    {
     "data": {
      "text/plain": [
       "0.25892040256175664"
      ]
     },
     "execution_count": 62,
     "metadata": {},
     "output_type": "execute_result"
    }
   ],
   "source": [
    "p = probability_given_bmi_condition([25, max(df['bmi'])], 'charges', [16700, max(df['charges'])])\n",
    "p"
   ]
  },
  {
   "cell_type": "markdown",
   "id": "eb226547",
   "metadata": {},
   "source": [
    "### Berapa peluang seseorang acak tagihan kesehatannya diatas 16.7k diketahui dia adalah perokok"
   ]
  },
  {
   "cell_type": "code",
   "execution_count": 139,
   "id": "2338a5f0",
   "metadata": {},
   "outputs": [
    {
     "data": {
      "text/plain": [
       "'Peluang seseorang memiliki tagihan di atas 16.7k jika diketahui dia adalah perokok sebesar 92.701 %'"
      ]
     },
     "execution_count": 139,
     "metadata": {},
     "output_type": "execute_result"
    }
   ],
   "source": [
    "smoker_data = df[df['smoker']=='yes']\n",
    "\"Peluang seseorang memiliki tagihan di atas 16.7k jika diketahui dia adalah perokok sebesar {:.3f} %\".format(\n",
    "    len(smoker_data[smoker_data['charges']>=16700])/len(smoker_data) * 100\n",
    ")"
   ]
  },
  {
   "cell_type": "markdown",
   "id": "e9f428b1",
   "metadata": {},
   "source": [
    "### Mana yang lebih mungkin terjadi\n",
    "a. Seseorang dengan BMI diatas 25 mendapatkan tagihan kesehatan diatas 16.7k,\n",
    "atau<br/>\n",
    "b. Seseorang dengan BMI dibawah 25 mendapatkan tagihan kesehatan diatas\n",
    "16.7k"
   ]
  },
  {
   "cell_type": "code",
   "execution_count": 63,
   "id": "da47d088",
   "metadata": {},
   "outputs": [
    {
     "data": {
      "text/plain": [
       "0.20647773279352227"
      ]
     },
     "execution_count": 63,
     "metadata": {},
     "output_type": "execute_result"
    }
   ],
   "source": [
    "p = probability_given_bmi_condition([0, 25], 'charges', [16700, max(df['charges'])])\n",
    "p"
   ]
  },
  {
   "cell_type": "markdown",
   "id": "eab5b506",
   "metadata": {},
   "source": [
    "### Mana yang lebih mungkin terjadi\n",
    "a. Seseorang perokok dengan BMI diatas 25 mendapatkan tagihan kesehatan\n",
    "diatas 16.7k, atau <br/>\n",
    "b. Seseorang non perokok dengan BMI diatas 25 mendapatkan tagihan kesehatan\n",
    "diatas 16.7k"
   ]
  },
  {
   "cell_type": "code",
   "execution_count": 65,
   "id": "11dc4dfc",
   "metadata": {},
   "outputs": [
    {
     "data": {
      "text/plain": [
       "0.9817351598173516"
      ]
     },
     "execution_count": 65,
     "metadata": {},
     "output_type": "execute_result"
    }
   ],
   "source": [
    "smoker_data_higher_than_25_bmi = df[\n",
    "    (df['smoker']=='yes')&\n",
    "    (df['bmi']>25)\n",
    "]\n",
    "len(smoker_data_higher_than_25_bmi[\n",
    "    smoker_data_higher_than_25_bmi['charges']>16700\n",
    "])/len(smoker_data_higher_than_25_bmi)"
   ]
  },
  {
   "cell_type": "code",
   "execution_count": 67,
   "id": "83a633b2",
   "metadata": {},
   "outputs": [
    {
     "data": {
      "text/plain": [
       "219"
      ]
     },
     "execution_count": 67,
     "metadata": {},
     "output_type": "execute_result"
    }
   ],
   "source": [
    "len(smoker_data_higher_than_25_bmi)"
   ]
  },
  {
   "cell_type": "code",
   "execution_count": 69,
   "id": "da1af8f8",
   "metadata": {},
   "outputs": [
    {
     "data": {
      "text/plain": [
       "215"
      ]
     },
     "execution_count": 69,
     "metadata": {},
     "output_type": "execute_result"
    }
   ],
   "source": [
    "len(smoker_data_higher_than_25_bmi[smoker_data_higher_than_25_bmi['charges']>16700])"
   ]
  },
  {
   "cell_type": "code",
   "execution_count": 70,
   "id": "07704a19",
   "metadata": {},
   "outputs": [
    {
     "data": {
      "text/plain": [
       "0.0779816513761468"
      ]
     },
     "execution_count": 70,
     "metadata": {},
     "output_type": "execute_result"
    }
   ],
   "source": [
    "non_smoker_data_higher_than_25_bmi = df[\n",
    "    (df['smoker']=='no')&\n",
    "    (df['bmi']>25)\n",
    "]\n",
    "len(non_smoker_data_higher_than_25_bmi[\n",
    "    non_smoker_data_higher_than_25_bmi['charges']>16700\n",
    "])/len(non_smoker_data_higher_than_25_bmi)"
   ]
  },
  {
   "cell_type": "code",
   "execution_count": 141,
   "id": "3c845108",
   "metadata": {},
   "outputs": [
    {
     "data": {
      "text/plain": [
       "0.8473053892215568"
      ]
     },
     "execution_count": 141,
     "metadata": {},
     "output_type": "execute_result"
    }
   ],
   "source": [
    "a = df[df['charges']>=16700]\n",
    "len(a[a['bmi']>=25])/len(a)"
   ]
  },
  {
   "cell_type": "code",
   "execution_count": 142,
   "id": "8ab98c1a",
   "metadata": {},
   "outputs": [
    {
     "data": {
      "text/plain": [
       "0.15269461077844312"
      ]
     },
     "execution_count": 142,
     "metadata": {},
     "output_type": "execute_result"
    }
   ],
   "source": [
    "a = df[df['charges']>=16700]\n",
    "len(a[a['bmi']<25])/len(a)"
   ]
  },
  {
   "cell_type": "code",
   "execution_count": 145,
   "id": "7b4dc06f",
   "metadata": {},
   "outputs": [
    {
     "data": {
      "text/plain": [
       "0.7597173144876325"
      ]
     },
     "execution_count": 145,
     "metadata": {},
     "output_type": "execute_result"
    }
   ],
   "source": [
    "a = df[\n",
    "    (df['charges']>=16700)&\n",
    "    (df['bmi']>=25)\n",
    "]\n",
    "len(a[a['smoker']=='yes'])/len(a)"
   ]
  },
  {
   "cell_type": "code",
   "execution_count": 146,
   "id": "7a4cf0a6",
   "metadata": {},
   "outputs": [
    {
     "data": {
      "text/plain": [
       "0.24028268551236748"
      ]
     },
     "execution_count": 146,
     "metadata": {},
     "output_type": "execute_result"
    }
   ],
   "source": [
    "len(a[a['smoker']=='no'])/len(a)"
   ]
  },
  {
   "cell_type": "code",
   "execution_count": 152,
   "id": "c351a7d8",
   "metadata": {},
   "outputs": [],
   "source": [
    "from statsmodels.stats.weightstats import ztest"
   ]
  },
  {
   "cell_type": "code",
   "execution_count": 164,
   "id": "694175b3",
   "metadata": {},
   "outputs": [
    {
     "name": "stdout",
     "output_type": "stream",
     "text": [
      "zscore: 46.66, p_value: 0.0\n"
     ]
    }
   ],
   "source": [
    "zscore, p_value = ztest(\n",
    "    df[df['smoker']=='yes']['charges'].values, \n",
    "    df[df['smoker']=='no']['charges'].values, \n",
    "    alternative='larger'\n",
    ")\n",
    "print('zscore: {:.2f}, p_value: {}'.format(zscore, p_value))"
   ]
  },
  {
   "cell_type": "code",
   "execution_count": 165,
   "id": "21b37396",
   "metadata": {},
   "outputs": [
    {
     "name": "stdout",
     "output_type": "stream",
     "text": [
      "zscore: 4.31, p_value: 8.348004956755111e-06\n"
     ]
    }
   ],
   "source": [
    "zscore, p_value = ztest(\n",
    "    df[df['bmi']>25]['charges'].values, \n",
    "    df[df['bmi']<25]['charges'].values, \n",
    "    alternative='larger'\n",
    ")\n",
    "print('zscore: {:.2f}, p_value: {}'.format(zscore, p_value))"
   ]
  },
  {
   "cell_type": "code",
   "execution_count": 171,
   "id": "a01f45c7",
   "metadata": {},
   "outputs": [
    {
     "name": "stdout",
     "output_type": "stream",
     "text": [
      "zscore: 1.70, p_value: 0.08974343679943912\n"
     ]
    }
   ],
   "source": [
    "zscore, p_value = ztest(\n",
    "    df[df['sex']=='male']['bmi'].values, \n",
    "    df[df['sex']=='female']['bmi'].values, \n",
    "    alternative='two-sided'\n",
    ")\n",
    "print('zscore: {:.2f}, p_value: {}'.format(zscore, p_value))"
   ]
  },
  {
   "cell_type": "code",
   "execution_count": 170,
   "id": "6f821b91",
   "metadata": {},
   "outputs": [
    {
     "name": "stdout",
     "output_type": "stream",
     "text": [
      "Help on function ztest in module statsmodels.stats.weightstats:\n",
      "\n",
      "ztest(x1, x2=None, value=0, alternative='two-sided', usevar='pooled', ddof=1.0)\n",
      "    test for mean based on normal distribution, one or two samples\n",
      "    \n",
      "    In the case of two samples, the samples are assumed to be independent.\n",
      "    \n",
      "    Parameters\n",
      "    ----------\n",
      "    x1 : array_like, 1-D or 2-D\n",
      "        first of the two independent samples\n",
      "    x2 : array_like, 1-D or 2-D\n",
      "        second of the two independent samples\n",
      "    value : float\n",
      "        In the one sample case, value is the mean of x1 under the Null\n",
      "        hypothesis.\n",
      "        In the two sample case, value is the difference between mean of x1 and\n",
      "        mean of x2 under the Null hypothesis. The test statistic is\n",
      "        `x1_mean - x2_mean - value`.\n",
      "    alternative : str\n",
      "        The alternative hypothesis, H1, has to be one of the following\n",
      "    \n",
      "           'two-sided': H1: difference in means not equal to value (default)\n",
      "           'larger' :   H1: difference in means larger than value\n",
      "           'smaller' :  H1: difference in means smaller than value\n",
      "    \n",
      "    usevar : str, 'pooled'\n",
      "        Currently, only 'pooled' is implemented.\n",
      "        If ``pooled``, then the standard deviation of the samples is assumed to be\n",
      "        the same. see CompareMeans.ztest_ind for different options.\n",
      "    ddof : int\n",
      "        Degrees of freedom use in the calculation of the variance of the mean\n",
      "        estimate. In the case of comparing means this is one, however it can\n",
      "        be adjusted for testing other statistics (proportion, correlation)\n",
      "    \n",
      "    Returns\n",
      "    -------\n",
      "    tstat : float\n",
      "        test statistic\n",
      "    pvalue : float\n",
      "        pvalue of the t-test\n",
      "    \n",
      "    Notes\n",
      "    -----\n",
      "    usevar not implemented, is always pooled in two sample case\n",
      "    use CompareMeans instead.\n",
      "\n"
     ]
    }
   ],
   "source": [
    "help(ztest)"
   ]
  },
  {
   "cell_type": "code",
   "execution_count": null,
   "id": "ccecd689",
   "metadata": {},
   "outputs": [],
   "source": []
  }
 ],
 "metadata": {
  "kernelspec": {
   "display_name": "Python 3 (ipykernel)",
   "language": "python",
   "name": "python3"
  },
  "language_info": {
   "codemirror_mode": {
    "name": "ipython",
    "version": 3
   },
   "file_extension": ".py",
   "mimetype": "text/x-python",
   "name": "python",
   "nbconvert_exporter": "python",
   "pygments_lexer": "ipython3",
   "version": "3.9.7"
  }
 },
 "nbformat": 4,
 "nbformat_minor": 5
}
